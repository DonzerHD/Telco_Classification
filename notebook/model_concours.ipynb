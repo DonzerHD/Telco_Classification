{
 "cells": [
  {
   "cell_type": "code",
   "execution_count": 81,
   "metadata": {},
   "outputs": [],
   "source": [
    "import pandas as pd\n",
    "import numpy as np\n",
    "import matplotlib.pyplot as plt\n",
    "import seaborn as sns\n",
    "\n",
    "# II La régression logistique en pratique\n",
    "df = pd.read_csv(\"../data/gold_concours.csv\")"
   ]
  },
  {
   "cell_type": "code",
   "execution_count": 82,
   "metadata": {},
   "outputs": [
    {
     "name": "stdout",
     "output_type": "stream",
     "text": [
      "gender [0 1]\n",
      "SeniorCitizen [0 1]\n",
      "Partner [1 0]\n",
      "Dependents [0 1]\n",
      "tenure [ 1 34  2 45  8 22 10 28 62 13 16 58 49 25 69 52 71 21 12 30 47 72 17 27\n",
      "  5 46 11 70 63 43 15 60 18 66  9  3 31 50 64 56  7 42 35 48 29 65 38 68\n",
      " 32 55 37 36 41  6  4 33 67 23 57 61 14 20 53 40 59 24 44 19 54 51 26  0\n",
      " 39]\n",
      "PhoneService [0 1]\n",
      "MultipleLines ['No phone service' 'No' 'Yes']\n",
      "InternetService ['DSL' 'Fiber optic' 'No']\n",
      "Contract ['Month-to-month' 'One year' 'Two year']\n",
      "PaperlessBilling [1 0]\n",
      "PaymentMethod ['Electronic check' 'Mailed check' 'Bank transfer (automatic)'\n",
      " 'Credit card (automatic)']\n",
      "MonthlyCharges [29.85 56.95 53.85 ... 63.1  44.2  78.7 ]\n",
      "TotalCharges [  29.85 1889.5   108.15 ...  346.45  306.6  6844.5 ]\n",
      "Churn ['No' 'Yes']\n",
      "nb_service_internet [1 2 3 0 4 5 6]\n"
     ]
    }
   ],
   "source": [
    "# met PaperlessBilling en binaire\n",
    "df['PaperlessBilling'] = df['PaperlessBilling'].map({'Yes': 1, 'No': 0})\n",
    "# fait pour pohneService\n",
    "df['PhoneService'] = df['PhoneService'].map({'Yes': 1, 'No': 0})\n",
    "# fait pour Dependents\n",
    "df['Dependents'] = df['Dependents'].map({'Yes': 1, 'No': 0})\n",
    "# fait pour Partner\n",
    "df['Partner'] = df['Partner'].map({'Yes': 1, 'No': 0})\n",
    "# fait aussi pour SeniorCitizen yes 1 no 0\n",
    "df['SeniorCitizen'] = df['SeniorCitizen'].map({'Yes': 1, 'No': 0})\n",
    "# fait aussi le gender\n",
    "df['gender'] = df['gender'].map({'Female': 0, 'Male' : 1})\n",
    "# fait une boucle pour voir les valeurs uniques de chaque colonne\n",
    "for col in df.columns:\n",
    "    print(col, df[col].unique())"
   ]
  },
  {
   "cell_type": "code",
   "execution_count": null,
   "metadata": {},
   "outputs": [],
   "source": []
  },
  {
   "cell_type": "code",
   "execution_count": 83,
   "metadata": {},
   "outputs": [],
   "source": [
    "from sklearn.model_selection import train_test_split\n",
    "X = df.drop('Churn', axis=1)\n",
    "y = df['Churn']\n",
    "X_train, X_test, y_train, y_test = train_test_split(X, y, train_size=0.8, shuffle=True, stratify=y,random_state=42)"
   ]
  },
  {
   "cell_type": "code",
   "execution_count": 84,
   "metadata": {},
   "outputs": [],
   "source": [
    "import numpy as np\n",
    "from sklearn.preprocessing import LabelEncoder\n",
    "\n",
    "labelencoder = LabelEncoder()\n",
    "y_train =  labelencoder.fit_transform(y_train)\n",
    "y_test = labelencoder.transform(y_test)\n",
    "\n",
    "# Convert y_train and y_test to numpy arrays\n",
    "y_train = np.array(y_train)\n",
    "y_test = np.array(y_test)"
   ]
  },
  {
   "cell_type": "code",
   "execution_count": 85,
   "metadata": {},
   "outputs": [],
   "source": [
    "from sklearn.pipeline import Pipeline\n",
    "from sklearn.preprocessing import OneHotEncoder\n",
    "from sklearn.compose import ColumnTransformer\n",
    "from sklearn.linear_model import LogisticRegression\n",
    "from sklearn import set_config\n",
    "from sklearn.preprocessing import StandardScaler , MinMaxScaler , RobustScaler\n",
    "from sklearn.preprocessing import PolynomialFeatures\n",
    "\n",
    "set_config(display='diagram')\n",
    "\n",
    "categorical_features = ['MultipleLines', 'InternetService', 'Contract' ,\n",
    "       'PaymentMethod'\n",
    "       ]\n",
    "\n",
    "numerical_features = [\n",
    "    'TotalCharges',\n",
    "    \"tenure\",\n",
    "    \"MonthlyCharges\",\n",
    "    'nb_service_internet',\n",
    "    'PaperlessBilling',\n",
    "    'PhoneService',\n",
    "    'Dependents',\n",
    "    'Partner',\n",
    "    'gender', \n",
    "    'SeniorCitizen'\n",
    "]\n",
    "\n",
    "numerical_transformer = Pipeline([\n",
    "    ('scaler', StandardScaler()),\n",
    "    ('PolynomialFeatures', PolynomialFeatures(degree=3))\n",
    "])\n",
    "\n",
    "# Create the OneHotEncoder\n",
    "categorical_transformer = OneHotEncoder(categories='auto', sparse=True)\n",
    "\n",
    "# Ajouter RobustScaler comme une autre transformation numérique\n",
    "numerical_transformer_robust = Pipeline([\n",
    "    ('scaler', RobustScaler()),\n",
    "    ('PolynomialFeatures', PolynomialFeatures(degree=3))\n",
    "])\n",
    "\n",
    "# Ajouter cette transformation à la liste des transformateurs du préprocesseur\n",
    "preprocessor = ColumnTransformer(\n",
    "    transformers=[\n",
    "        ('cat', categorical_transformer, categorical_features),\n",
    "        ('num_minmax', numerical_transformer, numerical_features),\n",
    "        ('num_robust', numerical_transformer_robust, numerical_features)\n",
    "    ],\n",
    "    remainder=\"passthrough\"\n",
    ")"
   ]
  },
  {
   "attachments": {},
   "cell_type": "markdown",
   "metadata": {},
   "source": [
    "# RANDOM GRID SEACH CV BEST PARAM"
   ]
  },
  {
   "attachments": {},
   "cell_type": "markdown",
   "metadata": {},
   "source": [
    "# Model Normal"
   ]
  },
  {
   "cell_type": "code",
   "execution_count": 86,
   "metadata": {},
   "outputs": [],
   "source": [
    "log_reg = LogisticRegression(C=10,\n",
    "                             class_weight='balanced',\n",
    "                             fit_intercept=True,\n",
    "                             intercept_scaling=1,\n",
    "                             max_iter=1000,\n",
    "                             penalty='l2', \n",
    "                             solver='saga', \n",
    "                             tol=0.002)\n",
    "\n",
    "pipe = Pipeline([\n",
    "     ('preprocessor', preprocessor),\n",
    "     ('log_reg', log_reg)\n",
    "])"
   ]
  },
  {
   "cell_type": "code",
   "execution_count": 87,
   "metadata": {},
   "outputs": [
    {
     "name": "stderr",
     "output_type": "stream",
     "text": [
      "/home/apprenant/miniconda3/envs/machine-learning/lib/python3.10/site-packages/sklearn/preprocessing/_encoders.py:868: FutureWarning: `sparse` was renamed to `sparse_output` in version 1.2 and will be removed in 1.4. `sparse_output` is ignored unless you leave `sparse` to its default value.\n",
      "  warnings.warn(\n"
     ]
    },
    {
     "name": "stdout",
     "output_type": "stream",
     "text": [
      "F1 Score: 0.6194503171247356\n"
     ]
    }
   ],
   "source": [
    "import mlflow\n",
    "import mlflow.sklearn\n",
    "# import f1 score\n",
    "from sklearn.metrics import f1_score\n",
    "\n",
    "# Start an MLflow run; the \"with\" keyword ensures we'll close the run even if this cell crashes\n",
    "with mlflow.start_run() as run:\n",
    "    # Fit the model\n",
    "    pipe.fit(X_train, y_train)\n",
    "\n",
    "    # Predict the test set using the model\n",
    "    y_pred = pipe.predict(X_test)\n",
    "\n",
    "    # Evaluate the model\n",
    "    score = f1_score(y_test, y_pred)\n",
    "    print(f\"F1 Score: {score}\")\n",
    "    \n",
    "    # Log model\n",
    "    mlflow.sklearn.log_model(pipe, \"model\")\n",
    "\n",
    "    # Log metrics\n",
    "    mlflow.log_metric(\"F1 Score\", score)"
   ]
  },
  {
   "cell_type": "code",
   "execution_count": 88,
   "metadata": {},
   "outputs": [
    {
     "data": {
      "image/png": "[encoded data removed]",
      "text/plain": [
       "<Figure size 640x480 with 2 Axes>"
      ]
     },
     "metadata": {},
     "output_type": "display_data"
    }
   ],
   "source": [
    "# matrix de confusion\n",
    "from sklearn.metrics import confusion_matrix\n",
    "import seaborn as sns\n",
    "\n",
    "# matrice de confusion avec seaborn\n",
    "sns.heatmap(confusion_matrix(y_test, y_pred), annot=True, fmt='d')\n",
    "# met le titre\n",
    "plt.title('Confusion Matrix')\n",
    "# met les labels\n",
    "plt.xlabel('Predicted')\n",
    "plt.ylabel('True')\n",
    "# affiche\n",
    "plt.show()"
   ]
  },
  {
   "cell_type": "code",
   "execution_count": 92,
   "metadata": {},
   "outputs": [
    {
     "name": "stderr",
     "output_type": "stream",
     "text": [
      "/home/apprenant/miniconda3/envs/machine-learning/lib/python3.10/site-packages/sklearn/preprocessing/_encoders.py:868: FutureWarning: `sparse` was renamed to `sparse_output` in version 1.2 and will be removed in 1.4. `sparse_output` is ignored unless you leave `sparse` to its default value.\n",
      "  warnings.warn(\n",
      "/home/apprenant/miniconda3/envs/machine-learning/lib/python3.10/site-packages/sklearn/ensemble/_forest.py:424: FutureWarning: `max_features='auto'` has been deprecated in 1.1 and will be removed in 1.3. To keep the past behaviour, explicitly set `max_features='sqrt'` or remove this parameter as it is also the default value for RandomForestClassifiers and ExtraTreesClassifiers.\n",
      "  warn(\n",
      "[Parallel(n_jobs=-1)]: Using backend ThreadingBackend with 8 concurrent workers.\n",
      "[Parallel(n_jobs=-1)]: Done  34 tasks      | elapsed:    0.4s\n",
      "[Parallel(n_jobs=-1)]: Done 184 tasks      | elapsed:    1.7s\n",
      "[Parallel(n_jobs=-1)]: Done 200 out of 200 | elapsed:    1.8s finished\n",
      "[Parallel(n_jobs=8)]: Using backend ThreadingBackend with 8 concurrent workers.\n",
      "[Parallel(n_jobs=8)]: Done  34 tasks      | elapsed:    0.0s\n",
      "[Parallel(n_jobs=8)]: Done 184 tasks      | elapsed:    0.1s\n",
      "[Parallel(n_jobs=8)]: Done 200 out of 200 | elapsed:    0.1s finished\n"
     ]
    },
    {
     "name": "stdout",
     "output_type": "stream",
     "text": [
      "F1 Score: 0.7378218622002841\n"
     ]
    }
   ],
   "source": [
    "from sklearn.ensemble import RandomForestClassifier\n",
    "\n",
    "# Crée un random forest avec des hyperparamètres personnalisés\n",
    "rf = RandomForestClassifier(n_estimators=200, max_depth=5, min_samples_split=2,\n",
    "                            min_samples_leaf=2, max_features='auto', random_state=42,\n",
    "                            class_weight='balanced', n_jobs=-1, verbose=1 , criterion='entropy')\n",
    "\n",
    "# Crée un pipeline\n",
    "pipe = Pipeline([\n",
    "    ('preprocessor', preprocessor),\n",
    "    ('rf', rf)\n",
    "])\n",
    "\n",
    "# Crée un run\n",
    "with mlflow.start_run() as run:\n",
    "    # Fit le modèle\n",
    "    pipe.fit(X_train, y_train)\n",
    "    # Prédit le test set\n",
    "    y_pred = pipe.predict(X_test)\n",
    "    # Évalue le modèle\n",
    "    score = f1_score(y_test, y_pred , average='macro')\n",
    "    print(f\"F1 Score: {score}\")\n",
    "    \n",
    "    # Log model\n",
    "    mlflow.sklearn.log_model(pipe, \"model\")\n",
    "    \n",
    "    mlflow.log_metric(\"F1 Score\", score)"
   ]
  }
 ],
 "metadata": {
  "kernelspec": {
   "display_name": "machine-learning",
   "language": "python",
   "name": "python3"
  },
  "language_info": {
   "codemirror_mode": {
    "name": "ipython",
    "version": 3
   },
   "file_extension": ".py",
   "mimetype": "text/x-python",
   "name": "python",
   "nbconvert_exporter": "python",
   "pygments_lexer": "ipython3",
   "version": "3.10.11"
  },
  "orig_nbformat": 4
 },
 "nbformat": 4,
 "nbformat_minor": 2
}
